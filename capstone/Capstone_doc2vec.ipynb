{
 "cells": [
  {
   "cell_type": "code",
   "execution_count": 1,
   "metadata": {},
   "outputs": [],
   "source": [
    "import pandas as pd\n",
    "import numpy as np\n",
    "import multiprocessing\n",
    "from random import shuffle\n",
    "import matplotlib.pyplot as plt\n",
    "import scikitplot as skplt"
   ]
  },
  {
   "cell_type": "code",
   "execution_count": 2,
   "metadata": {},
   "outputs": [
    {
     "data": {
      "text/html": [
       "<div>\n",
       "<style>\n",
       "    .dataframe thead tr:only-child th {\n",
       "        text-align: right;\n",
       "    }\n",
       "\n",
       "    .dataframe thead th {\n",
       "        text-align: left;\n",
       "    }\n",
       "\n",
       "    .dataframe tbody tr th {\n",
       "        vertical-align: top;\n",
       "    }\n",
       "</style>\n",
       "<table border=\"1\" class=\"dataframe\">\n",
       "  <thead>\n",
       "    <tr style=\"text-align: right;\">\n",
       "      <th></th>\n",
       "      <th>ID</th>\n",
       "      <th>Gene</th>\n",
       "      <th>Variation</th>\n",
       "      <th>Class</th>\n",
       "    </tr>\n",
       "  </thead>\n",
       "  <tbody>\n",
       "    <tr>\n",
       "      <th>0</th>\n",
       "      <td>0</td>\n",
       "      <td>FAM58A</td>\n",
       "      <td>Truncating Mutations</td>\n",
       "      <td>1</td>\n",
       "    </tr>\n",
       "    <tr>\n",
       "      <th>1</th>\n",
       "      <td>1</td>\n",
       "      <td>CBL</td>\n",
       "      <td>W802*</td>\n",
       "      <td>2</td>\n",
       "    </tr>\n",
       "    <tr>\n",
       "      <th>2</th>\n",
       "      <td>2</td>\n",
       "      <td>CBL</td>\n",
       "      <td>Q249E</td>\n",
       "      <td>2</td>\n",
       "    </tr>\n",
       "    <tr>\n",
       "      <th>3</th>\n",
       "      <td>3</td>\n",
       "      <td>CBL</td>\n",
       "      <td>N454D</td>\n",
       "      <td>3</td>\n",
       "    </tr>\n",
       "    <tr>\n",
       "      <th>4</th>\n",
       "      <td>4</td>\n",
       "      <td>CBL</td>\n",
       "      <td>L399V</td>\n",
       "      <td>4</td>\n",
       "    </tr>\n",
       "  </tbody>\n",
       "</table>\n",
       "</div>"
      ],
      "text/plain": [
       "   ID    Gene             Variation  Class\n",
       "0   0  FAM58A  Truncating Mutations      1\n",
       "1   1     CBL                 W802*      2\n",
       "2   2     CBL                 Q249E      2\n",
       "3   3     CBL                 N454D      3\n",
       "4   4     CBL                 L399V      4"
      ]
     },
     "execution_count": 2,
     "metadata": {},
     "output_type": "execute_result"
    }
   ],
   "source": [
    "X_train_variant_data = pd.read_csv('training_variants')\n",
    "X_train_variant_data.head()\n"
   ]
  },
  {
   "cell_type": "code",
   "execution_count": 3,
   "metadata": {},
   "outputs": [
    {
     "name": "stdout",
     "output_type": "stream",
     "text": [
      "3321\n"
     ]
    }
   ],
   "source": [
    "print X_train_variant_data.shape[0]"
   ]
  },
  {
   "cell_type": "code",
   "execution_count": 4,
   "metadata": {},
   "outputs": [
    {
     "data": {
      "text/html": [
       "<div>\n",
       "<style>\n",
       "    .dataframe thead tr:only-child th {\n",
       "        text-align: right;\n",
       "    }\n",
       "\n",
       "    .dataframe thead th {\n",
       "        text-align: left;\n",
       "    }\n",
       "\n",
       "    .dataframe tbody tr th {\n",
       "        vertical-align: top;\n",
       "    }\n",
       "</style>\n",
       "<table border=\"1\" class=\"dataframe\">\n",
       "  <thead>\n",
       "    <tr style=\"text-align: right;\">\n",
       "      <th></th>\n",
       "      <th>ID</th>\n",
       "      <th>Gene</th>\n",
       "      <th>Variation</th>\n",
       "    </tr>\n",
       "  </thead>\n",
       "  <tbody>\n",
       "    <tr>\n",
       "      <th>0</th>\n",
       "      <td>0</td>\n",
       "      <td>ACSL4</td>\n",
       "      <td>R570S</td>\n",
       "    </tr>\n",
       "    <tr>\n",
       "      <th>1</th>\n",
       "      <td>1</td>\n",
       "      <td>NAGLU</td>\n",
       "      <td>P521L</td>\n",
       "    </tr>\n",
       "    <tr>\n",
       "      <th>2</th>\n",
       "      <td>2</td>\n",
       "      <td>PAH</td>\n",
       "      <td>L333F</td>\n",
       "    </tr>\n",
       "    <tr>\n",
       "      <th>3</th>\n",
       "      <td>3</td>\n",
       "      <td>ING1</td>\n",
       "      <td>A148D</td>\n",
       "    </tr>\n",
       "    <tr>\n",
       "      <th>4</th>\n",
       "      <td>4</td>\n",
       "      <td>TMEM216</td>\n",
       "      <td>G77A</td>\n",
       "    </tr>\n",
       "  </tbody>\n",
       "</table>\n",
       "</div>"
      ],
      "text/plain": [
       "   ID     Gene Variation\n",
       "0   0    ACSL4     R570S\n",
       "1   1    NAGLU     P521L\n",
       "2   2      PAH     L333F\n",
       "3   3     ING1     A148D\n",
       "4   4  TMEM216      G77A"
      ]
     },
     "execution_count": 4,
     "metadata": {},
     "output_type": "execute_result"
    }
   ],
   "source": [
    "X_test_variant_data = pd.read_csv('test_variants')\n",
    "X_test_variant_data.head()"
   ]
  },
  {
   "cell_type": "code",
   "execution_count": 5,
   "metadata": {},
   "outputs": [
    {
     "data": {
      "text/html": [
       "<div>\n",
       "<style>\n",
       "    .dataframe thead tr:only-child th {\n",
       "        text-align: right;\n",
       "    }\n",
       "\n",
       "    .dataframe thead th {\n",
       "        text-align: left;\n",
       "    }\n",
       "\n",
       "    .dataframe tbody tr th {\n",
       "        vertical-align: top;\n",
       "    }\n",
       "</style>\n",
       "<table border=\"1\" class=\"dataframe\">\n",
       "  <thead>\n",
       "    <tr style=\"text-align: right;\">\n",
       "      <th></th>\n",
       "      <th>ID</th>\n",
       "      <th>Text</th>\n",
       "    </tr>\n",
       "  </thead>\n",
       "  <tbody>\n",
       "    <tr>\n",
       "      <th>0</th>\n",
       "      <td>0</td>\n",
       "      <td>2. This mutation resulted in a myeloproliferat...</td>\n",
       "    </tr>\n",
       "    <tr>\n",
       "      <th>1</th>\n",
       "      <td>1</td>\n",
       "      <td>Abstract The Large Tumor Suppressor 1 (LATS1)...</td>\n",
       "    </tr>\n",
       "    <tr>\n",
       "      <th>2</th>\n",
       "      <td>2</td>\n",
       "      <td>Vascular endothelial growth factor receptor (V...</td>\n",
       "    </tr>\n",
       "    <tr>\n",
       "      <th>3</th>\n",
       "      <td>3</td>\n",
       "      <td>Inflammatory myofibroblastic tumor (IMT) is a ...</td>\n",
       "    </tr>\n",
       "    <tr>\n",
       "      <th>4</th>\n",
       "      <td>4</td>\n",
       "      <td>Abstract Retinoblastoma is a pediatric retina...</td>\n",
       "    </tr>\n",
       "  </tbody>\n",
       "</table>\n",
       "</div>"
      ],
      "text/plain": [
       "   ID                                               Text\n",
       "0   0  2. This mutation resulted in a myeloproliferat...\n",
       "1   1   Abstract The Large Tumor Suppressor 1 (LATS1)...\n",
       "2   2  Vascular endothelial growth factor receptor (V...\n",
       "3   3  Inflammatory myofibroblastic tumor (IMT) is a ...\n",
       "4   4   Abstract Retinoblastoma is a pediatric retina..."
      ]
     },
     "execution_count": 5,
     "metadata": {},
     "output_type": "execute_result"
    }
   ],
   "source": [
    "X_train_text = pd.read_table('training_text', sep='\\|\\|', engine='python', names=['ID', 'Text'], skiprows=[0])\n",
    "X_test_text = pd.read_table('test_text', sep='\\|\\|', engine='python', names=['ID', 'Text'], skiprows=[0])\n",
    "X_test_text.head()"
   ]
  },
  {
   "cell_type": "code",
   "execution_count": 6,
   "metadata": {},
   "outputs": [
    {
     "name": "stdout",
     "output_type": "stream",
     "text": [
      "2996\n"
     ]
    }
   ],
   "source": [
    "print len(np.unique(X_train_variant_data['Variation']))"
   ]
  },
  {
   "cell_type": "code",
   "execution_count": 7,
   "metadata": {},
   "outputs": [
    {
     "data": {
      "text/plain": [
       "0    1\n",
       "1    2\n",
       "2    2\n",
       "3    3\n",
       "4    4\n",
       "Name: Class, dtype: int64"
      ]
     },
     "execution_count": 7,
     "metadata": {},
     "output_type": "execute_result"
    }
   ],
   "source": [
    "\"\"\"\n",
    "    Remove the class target label from the training variant data set and add it to an independent target label array\n",
    "\"\"\"\n",
    "y_train = X_train_variant_data['Class']\n",
    "X_train_variant_data.drop('Class', axis=1, inplace=True)\n",
    "y_train.head()\n",
    "#print y_train.shape"
   ]
  },
  {
   "cell_type": "code",
   "execution_count": 8,
   "metadata": {},
   "outputs": [
    {
     "data": {
      "text/html": [
       "<div>\n",
       "<style>\n",
       "    .dataframe thead tr:only-child th {\n",
       "        text-align: right;\n",
       "    }\n",
       "\n",
       "    .dataframe thead th {\n",
       "        text-align: left;\n",
       "    }\n",
       "\n",
       "    .dataframe tbody tr th {\n",
       "        vertical-align: top;\n",
       "    }\n",
       "</style>\n",
       "<table border=\"1\" class=\"dataframe\">\n",
       "  <thead>\n",
       "    <tr style=\"text-align: right;\">\n",
       "      <th></th>\n",
       "      <th>class1</th>\n",
       "      <th>class2</th>\n",
       "      <th>class3</th>\n",
       "      <th>class4</th>\n",
       "      <th>class5</th>\n",
       "      <th>class6</th>\n",
       "      <th>class7</th>\n",
       "      <th>class8</th>\n",
       "      <th>class9</th>\n",
       "    </tr>\n",
       "  </thead>\n",
       "  <tbody>\n",
       "    <tr>\n",
       "      <th>0</th>\n",
       "      <td>1</td>\n",
       "      <td>0</td>\n",
       "      <td>0</td>\n",
       "      <td>0</td>\n",
       "      <td>0</td>\n",
       "      <td>0</td>\n",
       "      <td>0</td>\n",
       "      <td>0</td>\n",
       "      <td>0</td>\n",
       "    </tr>\n",
       "    <tr>\n",
       "      <th>1</th>\n",
       "      <td>0</td>\n",
       "      <td>1</td>\n",
       "      <td>0</td>\n",
       "      <td>0</td>\n",
       "      <td>0</td>\n",
       "      <td>0</td>\n",
       "      <td>0</td>\n",
       "      <td>0</td>\n",
       "      <td>0</td>\n",
       "    </tr>\n",
       "    <tr>\n",
       "      <th>2</th>\n",
       "      <td>0</td>\n",
       "      <td>1</td>\n",
       "      <td>0</td>\n",
       "      <td>0</td>\n",
       "      <td>0</td>\n",
       "      <td>0</td>\n",
       "      <td>0</td>\n",
       "      <td>0</td>\n",
       "      <td>0</td>\n",
       "    </tr>\n",
       "    <tr>\n",
       "      <th>3</th>\n",
       "      <td>0</td>\n",
       "      <td>0</td>\n",
       "      <td>1</td>\n",
       "      <td>0</td>\n",
       "      <td>0</td>\n",
       "      <td>0</td>\n",
       "      <td>0</td>\n",
       "      <td>0</td>\n",
       "      <td>0</td>\n",
       "    </tr>\n",
       "    <tr>\n",
       "      <th>4</th>\n",
       "      <td>0</td>\n",
       "      <td>0</td>\n",
       "      <td>0</td>\n",
       "      <td>1</td>\n",
       "      <td>0</td>\n",
       "      <td>0</td>\n",
       "      <td>0</td>\n",
       "      <td>0</td>\n",
       "      <td>0</td>\n",
       "    </tr>\n",
       "  </tbody>\n",
       "</table>\n",
       "</div>"
      ],
      "text/plain": [
       "   class1  class2  class3  class4  class5  class6  class7  class8  class9\n",
       "0       1       0       0       0       0       0       0       0       0\n",
       "1       0       1       0       0       0       0       0       0       0\n",
       "2       0       1       0       0       0       0       0       0       0\n",
       "3       0       0       1       0       0       0       0       0       0\n",
       "4       0       0       0       1       0       0       0       0       0"
      ]
     },
     "execution_count": 8,
     "metadata": {},
     "output_type": "execute_result"
    }
   ],
   "source": [
    "\"\"\"\n",
    "    One hot encode the target label array\n",
    "\"\"\"\n",
    "\n",
    "y_train = pd.get_dummies(y_train, prefix='class', prefix_sep='')\n",
    "y_train.head()\n"
   ]
  },
  {
   "cell_type": "code",
   "execution_count": 9,
   "metadata": {},
   "outputs": [
    {
     "name": "stdout",
     "output_type": "stream",
     "text": [
      "(3321, 500)\n"
     ]
    }
   ],
   "source": [
    "\"\"\"\n",
    "    Hash vectorize gene, variation columns\n",
    "\"\"\"\n",
    "from sklearn.feature_extraction.text import HashingVectorizer\n",
    "\n",
    "\n",
    "X_train_gene = X_train_variant_data['Gene']\n",
    "gene_hash_vectorizer = HashingVectorizer(n_features=500)\n",
    "gene_vector = gene_hash_vectorizer.transform(X_train_gene)\n",
    "\n",
    "X_train_variation = X_train_variant_data['Variation']\n",
    "variation_hash_vectorizer = HashingVectorizer(n_features=5000)\n",
    "variation_vector = variation_hash_vectorizer.transform(X_train_variation)\n",
    "\n",
    "X_test_gene = X_test_variant_data['Gene']\n",
    "gene_test_hash_vectorizer = HashingVectorizer(n_features=500)\n",
    "gene_test_vector = gene_test_hash_vectorizer.transform(X_test_gene)\n",
    "\n",
    "X_test_variation = X_test_variant_data['Variation']\n",
    "variation_test_hash_vectorizer = HashingVectorizer(n_features=5000)\n",
    "variation_test_vector = variation_test_hash_vectorizer.transform(X_test_variation)\n",
    "\n",
    "print gene_vector.shape\n"
   ]
  },
  {
   "cell_type": "code",
   "execution_count": 10,
   "metadata": {},
   "outputs": [
    {
     "name": "stdout",
     "output_type": "stream",
     "text": [
      "[nltk_data] Downloading collection u'popular'\n",
      "[nltk_data]    | \n",
      "[nltk_data]    | Downloading package cmudict to\n",
      "[nltk_data]    |     /home/paperspace/nltk_data...\n",
      "[nltk_data]    |   Package cmudict is already up-to-date!\n",
      "[nltk_data]    | Downloading package gazetteers to\n",
      "[nltk_data]    |     /home/paperspace/nltk_data...\n",
      "[nltk_data]    |   Package gazetteers is already up-to-date!\n",
      "[nltk_data]    | Downloading package genesis to\n",
      "[nltk_data]    |     /home/paperspace/nltk_data...\n",
      "[nltk_data]    |   Package genesis is already up-to-date!\n",
      "[nltk_data]    | Downloading package gutenberg to\n",
      "[nltk_data]    |     /home/paperspace/nltk_data...\n",
      "[nltk_data]    |   Package gutenberg is already up-to-date!\n",
      "[nltk_data]    | Downloading package inaugural to\n",
      "[nltk_data]    |     /home/paperspace/nltk_data...\n",
      "[nltk_data]    |   Package inaugural is already up-to-date!\n",
      "[nltk_data]    | Downloading package movie_reviews to\n",
      "[nltk_data]    |     /home/paperspace/nltk_data...\n",
      "[nltk_data]    |   Package movie_reviews is already up-to-date!\n",
      "[nltk_data]    | Downloading package names to\n",
      "[nltk_data]    |     /home/paperspace/nltk_data...\n",
      "[nltk_data]    |   Package names is already up-to-date!\n",
      "[nltk_data]    | Downloading package shakespeare to\n",
      "[nltk_data]    |     /home/paperspace/nltk_data...\n",
      "[nltk_data]    |   Package shakespeare is already up-to-date!\n",
      "[nltk_data]    | Downloading package stopwords to\n",
      "[nltk_data]    |     /home/paperspace/nltk_data...\n",
      "[nltk_data]    |   Package stopwords is already up-to-date!\n",
      "[nltk_data]    | Downloading package treebank to\n",
      "[nltk_data]    |     /home/paperspace/nltk_data...\n",
      "[nltk_data]    |   Package treebank is already up-to-date!\n",
      "[nltk_data]    | Downloading package twitter_samples to\n",
      "[nltk_data]    |     /home/paperspace/nltk_data...\n",
      "[nltk_data]    |   Package twitter_samples is already up-to-date!\n",
      "[nltk_data]    | Downloading package omw to\n",
      "[nltk_data]    |     /home/paperspace/nltk_data...\n",
      "[nltk_data]    |   Package omw is already up-to-date!\n",
      "[nltk_data]    | Downloading package wordnet to\n",
      "[nltk_data]    |     /home/paperspace/nltk_data...\n",
      "[nltk_data]    |   Package wordnet is already up-to-date!\n",
      "[nltk_data]    | Downloading package wordnet_ic to\n",
      "[nltk_data]    |     /home/paperspace/nltk_data...\n",
      "[nltk_data]    |   Package wordnet_ic is already up-to-date!\n",
      "[nltk_data]    | Downloading package words to\n",
      "[nltk_data]    |     /home/paperspace/nltk_data...\n",
      "[nltk_data]    |   Package words is already up-to-date!\n",
      "[nltk_data]    | Downloading package maxent_ne_chunker to\n",
      "[nltk_data]    |     /home/paperspace/nltk_data...\n",
      "[nltk_data]    |   Package maxent_ne_chunker is already up-to-date!\n",
      "[nltk_data]    | Downloading package punkt to\n",
      "[nltk_data]    |     /home/paperspace/nltk_data...\n",
      "[nltk_data]    |   Package punkt is already up-to-date!\n",
      "[nltk_data]    | Downloading package snowball_data to\n",
      "[nltk_data]    |     /home/paperspace/nltk_data...\n",
      "[nltk_data]    |   Package snowball_data is already up-to-date!\n",
      "[nltk_data]    | Downloading package averaged_perceptron_tagger to\n",
      "[nltk_data]    |     /home/paperspace/nltk_data...\n",
      "[nltk_data]    |   Package averaged_perceptron_tagger is already up-\n",
      "[nltk_data]    |       to-date!\n",
      "[nltk_data]    | \n",
      "[nltk_data]  Done downloading collection popular\n"
     ]
    },
    {
     "data": {
      "text/plain": [
       "True"
      ]
     },
     "execution_count": 10,
     "metadata": {},
     "output_type": "execute_result"
    }
   ],
   "source": [
    "\"\"\"\n",
    "    Download nltk stopwords corpus\n",
    "\"\"\"\n",
    "import nltk\n",
    "nltk.download('popular')"
   ]
  },
  {
   "cell_type": "code",
   "execution_count": 11,
   "metadata": {},
   "outputs": [
    {
     "name": "stdout",
     "output_type": "stream",
     "text": [
      "[u'i', u'opinion', u'guarante', u'life']\n"
     ]
    }
   ],
   "source": [
    "\"\"\"\n",
    "    Process clinical text data by tokenizing words, removing stop words, stemming words etc.\n",
    "\"\"\"\n",
    "\n",
    "from nltk.corpus import stopwords\n",
    "from nltk.tokenize import word_tokenize\n",
    "from nltk.stem.snowball import SnowballStemmer\n",
    "from gensim import utils\n",
    "def process_clinical_text(clinical_text):\n",
    "    stop_words = set(stopwords.words('english'))\n",
    "    tokenized_text = word_tokenize(utils.to_unicode(clinical_text))\n",
    "    stemmer = SnowballStemmer('english')\n",
    "    processed_text = []\n",
    "    for word in tokenized_text:\n",
    "        if word not in stop_words:\n",
    "            processed_text.append(stemmer.stem(word))\n",
    "    return processed_text\n",
    "\n",
    "print process_clinical_text('I am of the opinion that there is no guarantee any where in life')    "
   ]
  },
  {
   "cell_type": "code",
   "execution_count": 12,
   "metadata": {
    "collapsed": true
   },
   "outputs": [],
   "source": [
    "\"\"\"\n",
    "    Method to apply doc2vec model on training and test data\n",
    "\"\"\"\n",
    "from gensim.models import Doc2Vec\n",
    "from gensim.models.doc2vec import TaggedDocument\n",
    "from gensim import utils\n",
    "\n",
    "def apply_doc2vec_model(processed_text):\n",
    "    cores = multiprocessing.cpu_count()\n",
    "    epochs = 30\n",
    "\n",
    "    tagged_clinical_text = []\n",
    "\n",
    "    for i, text in processed_text.iteritems():\n",
    "        tagged_clinical_text.append(TaggedDocument(text, ['ct_' + '%s' % str(i)]))\n",
    "\n",
    "    doc2vec_model = Doc2Vec(dm=1, dm_mean=1, min_count=1, window=5, workers=cores, alpha=0.075, min_alpha=0.075)\n",
    "    doc2vec_model.build_vocab(tagged_clinical_text)\n",
    "    \n",
    "    for i in range(epochs):\n",
    "        doc2vec_model.train(tagged_clinical_text, total_examples=len(tagged_clinical_text), epochs=1)\n",
    "        doc2vec_model.alpha -= 0.002\n",
    "        doc2vec_model.min_alpha = doc2vec_model.alpha\n",
    "        \n",
    "    #clinical_text_vector = np.zeros((len(tagged_clinical_text), 300))\n",
    "    clinical_text_vector = []\n",
    "    for i in range(len(tagged_clinical_text)):\n",
    "        clinical_text_vector.append(doc2vec_model.docvecs['ct_'+str(i)])\n",
    "    \n",
    "    return clinical_text_vector\n",
    "    "
   ]
  },
  {
   "cell_type": "code",
   "execution_count": 13,
   "metadata": {},
   "outputs": [
    {
     "name": "stdout",
     "output_type": "stream",
     "text": [
      "[ 0.63371795 -2.08129549  0.95111269  1.71817601  2.63506103 -2.56777287\n",
      " -0.71583354  1.54427564 -0.61628222 -1.98483753  0.58251321  1.39327371\n",
      " -1.20367742 -0.77654397 -2.94564128  0.03658156 -1.47104001 -0.31069657\n",
      "  2.56948113  0.99757743 -2.21715307  0.58444571  3.12542439 -0.38942185\n",
      "  1.43385589  1.15081048 -1.07815278 -1.88893485 -0.1088432  -0.46550974\n",
      " -0.08182781  0.48247933  0.35739917  0.64795667 -0.20882474  1.8862108\n",
      " -1.1752615   0.28705853 -0.37376478  0.73973131  0.81681758  0.03721907\n",
      "  0.21466365  1.01701999 -1.22662497  2.68129873 -1.24904776 -0.14178559\n",
      "  1.19746399 -0.05019539  0.36976475  1.54917681  3.74929738  1.31612742\n",
      " -0.27364281  0.16332625  1.37771857  0.62415457  0.82757509  1.66925657\n",
      " -0.69641745  0.81700134  1.67378223  1.57470536  0.7599265   2.1202774\n",
      "  0.08763322 -2.02270699  0.2476923  -0.07333846  0.72233593 -0.53051513\n",
      " -2.15938902  0.22358432 -0.23433346  0.94078761 -1.35449624  1.72819126\n",
      "  1.57680023  3.11409569 -1.30927372 -1.33008981 -2.18830538 -0.70090008\n",
      " -1.68554485 -2.30801225 -1.27444935  1.08930528 -1.009709   -1.10499334\n",
      "  0.61081725  1.18794286 -1.47185147 -2.0543201   0.51600868  0.08682162\n",
      " -2.54555035 -0.40310279 -2.01007891 -2.49580979]\n"
     ]
    }
   ],
   "source": [
    "\"\"\"\n",
    "    Apply Doc2Vec model on the clinical text training and test data\n",
    "\"\"\"\n",
    "\n",
    "processed_clinical_text = X_train_text['Text'].apply(process_clinical_text)\n",
    "#print processed_clinical_text[0]\n",
    "clinical_text_train = apply_doc2vec_model(processed_clinical_text)\n",
    "#print clinical_text_train[0]\n",
    "processed_clinical_test_text = X_test_text['Text'].apply(process_clinical_text)\n",
    "clinical_text_test = apply_doc2vec_model(processed_clinical_test_text)\n",
    "print clinical_text_test[0]\n",
    "\n"
   ]
  },
  {
   "cell_type": "code",
   "execution_count": null,
   "metadata": {
    "collapsed": true
   },
   "outputs": [],
   "source": [
    "#print clinical_text_train.shape\n"
   ]
  },
  {
   "cell_type": "code",
   "execution_count": 14,
   "metadata": {},
   "outputs": [
    {
     "name": "stdout",
     "output_type": "stream",
     "text": [
      "(3321, 5600)\n",
      "(3321, 9)\n"
     ]
    }
   ],
   "source": [
    "\"\"\"\n",
    "    Combine gene vector, variation vector and clinical text vector into a resultant training set\n",
    "\"\"\"\n",
    "\n",
    "X_train = np.hstack((gene_vector.toarray(), variation_vector.toarray(), clinical_text_train))\n",
    "X_test = np.hstack((gene_test_vector.toarray(), variation_test_vector.toarray(), clinical_text_test))\n",
    "\n",
    "print X_train.shape\n",
    "print y_train.shape"
   ]
  },
  {
   "cell_type": "code",
   "execution_count": 15,
   "metadata": {},
   "outputs": [
    {
     "name": "stdout",
     "output_type": "stream",
     "text": [
      "(3321, 5600, 1)\n",
      "(3321, 9)\n"
     ]
    }
   ],
   "source": [
    "\"\"\"\n",
    "    Expand dimensions of data to fit into the CNN model\n",
    "\"\"\"\n",
    "\n",
    "X_train_dim_data = np.expand_dims(X_train, axis=2)\n",
    "print X_train_dim_data.shape\n",
    "y_train_dim_data = np.array(y_train)\n",
    "print y_train_dim_data.shape\n",
    "\n",
    "X_test_dim_data = np.expand_dims(X_test, axis=2)\n"
   ]
  },
  {
   "cell_type": "code",
   "execution_count": 16,
   "metadata": {},
   "outputs": [
    {
     "name": "stderr",
     "output_type": "stream",
     "text": [
      "Using TensorFlow backend.\n"
     ]
    }
   ],
   "source": [
    "\"\"\"\n",
    "    Define and compile the CNN model\n",
    "\"\"\"\n",
    "\n",
    "from keras.layers import Conv1D, MaxPooling1D, GlobalAveragePooling1D\n",
    "from keras.layers import Dense, Dropout, Flatten\n",
    "from keras.models import Sequential\n",
    "\n",
    "def create_cnn_model(optimizer='rmsprop'):\n",
    "    num_classes = 9\n",
    "    cnn_model = Sequential()\n",
    "    cnn_model.add(Conv1D(filters=16, kernel_size=2, padding='same', activation='relu', input_shape=X_train_dim_data.shape[1:]))\n",
    "    cnn_model.add(MaxPooling1D(pool_size=2))\n",
    "    cnn_model.add(Dropout(0.2))\n",
    "    cnn_model.add(Conv1D(filters=32, kernel_size=2, padding='same', activation='relu'))\n",
    "    cnn_model.add(MaxPooling1D(pool_size=2))\n",
    "    cnn_model.add(Dropout(0.2))\n",
    "    cnn_model.add(Conv1D(filters=64, kernel_size=2, padding='same', activation='relu'))\n",
    "    cnn_model.add(MaxPooling1D(pool_size=2))\n",
    "    cnn_model.add(Dropout(0.2))\n",
    "    cnn_model.add(GlobalAveragePooling1D())\n",
    "    cnn_model.add(Dense(num_classes, activation='softmax'))\n",
    "\n",
    "    cnn_model.summary()\n",
    "    cnn_model.compile(loss='categorical_crossentropy', optimizer=optimizer, metrics=['accuracy'])\n",
    "    return cnn_model\n"
   ]
  },
  {
   "cell_type": "code",
   "execution_count": 17,
   "metadata": {},
   "outputs": [
    {
     "name": "stdout",
     "output_type": "stream",
     "text": [
      "_________________________________________________________________\n",
      "Layer (type)                 Output Shape              Param #   \n",
      "=================================================================\n",
      "conv1d_1 (Conv1D)            (None, 5600, 16)          48        \n",
      "_________________________________________________________________\n",
      "max_pooling1d_1 (MaxPooling1 (None, 2800, 16)          0         \n",
      "_________________________________________________________________\n",
      "dropout_1 (Dropout)          (None, 2800, 16)          0         \n",
      "_________________________________________________________________\n",
      "conv1d_2 (Conv1D)            (None, 2800, 32)          1056      \n",
      "_________________________________________________________________\n",
      "max_pooling1d_2 (MaxPooling1 (None, 1400, 32)          0         \n",
      "_________________________________________________________________\n",
      "dropout_2 (Dropout)          (None, 1400, 32)          0         \n",
      "_________________________________________________________________\n",
      "conv1d_3 (Conv1D)            (None, 1400, 64)          4160      \n",
      "_________________________________________________________________\n",
      "max_pooling1d_3 (MaxPooling1 (None, 700, 64)           0         \n",
      "_________________________________________________________________\n",
      "dropout_3 (Dropout)          (None, 700, 64)           0         \n",
      "_________________________________________________________________\n",
      "global_average_pooling1d_1 ( (None, 64)                0         \n",
      "_________________________________________________________________\n",
      "dense_1 (Dense)              (None, 9)                 585       \n",
      "=================================================================\n",
      "Total params: 5,849\n",
      "Trainable params: 5,849\n",
      "Non-trainable params: 0\n",
      "_________________________________________________________________\n"
     ]
    },
    {
     "data": {
      "text/plain": [
       "<keras.models.Sequential at 0x7f44220521d0>"
      ]
     },
     "execution_count": 17,
     "metadata": {},
     "output_type": "execute_result"
    }
   ],
   "source": [
    "create_cnn_model()"
   ]
  },
  {
   "cell_type": "code",
   "execution_count": 18,
   "metadata": {
    "collapsed": true
   },
   "outputs": [],
   "source": [
    "\"\"\"\n",
    "    Define and compile the CNN model\n",
    "\"\"\"\n",
    "\n",
    "from keras.layers import Conv1D, MaxPooling1D, GlobalAveragePooling1D\n",
    "from keras.layers import Dense, Dropout, Flatten\n",
    "from keras.models import Sequential\n",
    "\n",
    "def create_cnn_model2(optimizer='rmsprop'):\n",
    "    num_classes = 9\n",
    "    cnn_model = Sequential()\n",
    "    cnn_model.add(Conv1D(filters=16, kernel_size=5, padding='same', activation='relu', input_shape=X_train_dim_data.shape[1:]))\n",
    "    cnn_model.add(MaxPooling1D(pool_size=2))\n",
    "    cnn_model.add(Dropout(0.2))\n",
    "    cnn_model.add(Conv1D(filters=32, kernel_size=5, padding='same', activation='relu'))\n",
    "    cnn_model.add(MaxPooling1D(pool_size=2))\n",
    "    cnn_model.add(Dropout(0.2))\n",
    "    cnn_model.add(Conv1D(filters=64, kernel_size=5, padding='same', activation='relu'))\n",
    "    cnn_model.add(MaxPooling1D(pool_size=2))\n",
    "    cnn_model.add(Dropout(0.2))\n",
    "    cnn_model.add(Flatten())\n",
    "    cnn_model.add(Dense(128, activation='relu'))\n",
    "    cnn_model.add(Dense(num_classes, activation='softmax'))\n",
    "\n",
    "    cnn_model.summary()\n",
    "    cnn_model.compile(loss='categorical_crossentropy', optimizer=optimizer, metrics=['accuracy'])\n",
    "    return cnn_model\n"
   ]
  },
  {
   "cell_type": "code",
   "execution_count": 19,
   "metadata": {},
   "outputs": [
    {
     "name": "stdout",
     "output_type": "stream",
     "text": [
      "(3321, 9)\n",
      "[1 0 0 0 0 0 0 0 0]\n"
     ]
    }
   ],
   "source": [
    "\"\"\"\n",
    "    Reshape the training inputs for KFold cross validation inputs\n",
    "\"\"\"\n",
    "X_train_2d = X_train_dim_data.reshape(X_train_dim_data.shape[0], X_train_dim_data.shape[1])\n",
    "y_train_2d = y_train_dim_data.reshape(y_train_dim_data.shape[0], y_train_dim_data.shape[1])\n",
    "print y_train_2d.shape\n",
    "print y_train_2d[0]"
   ]
  },
  {
   "cell_type": "code",
   "execution_count": 20,
   "metadata": {},
   "outputs": [
    {
     "name": "stdout",
     "output_type": "stream",
     "text": [
      "_________________________________________________________________\n",
      "Layer (type)                 Output Shape              Param #   \n",
      "=================================================================\n",
      "conv1d_4 (Conv1D)            (None, 5600, 16)          96        \n",
      "_________________________________________________________________\n",
      "max_pooling1d_4 (MaxPooling1 (None, 2800, 16)          0         \n",
      "_________________________________________________________________\n",
      "dropout_4 (Dropout)          (None, 2800, 16)          0         \n",
      "_________________________________________________________________\n",
      "conv1d_5 (Conv1D)            (None, 2800, 32)          2592      \n",
      "_________________________________________________________________\n",
      "max_pooling1d_5 (MaxPooling1 (None, 1400, 32)          0         \n",
      "_________________________________________________________________\n",
      "dropout_5 (Dropout)          (None, 1400, 32)          0         \n",
      "_________________________________________________________________\n",
      "conv1d_6 (Conv1D)            (None, 1400, 64)          10304     \n",
      "_________________________________________________________________\n",
      "max_pooling1d_6 (MaxPooling1 (None, 700, 64)           0         \n",
      "_________________________________________________________________\n",
      "dropout_6 (Dropout)          (None, 700, 64)           0         \n",
      "_________________________________________________________________\n",
      "flatten_1 (Flatten)          (None, 44800)             0         \n",
      "_________________________________________________________________\n",
      "dense_2 (Dense)              (None, 128)               5734528   \n",
      "_________________________________________________________________\n",
      "dense_3 (Dense)              (None, 9)                 1161      \n",
      "=================================================================\n",
      "Total params: 5,748,681\n",
      "Trainable params: 5,748,681\n",
      "Non-trainable params: 0\n",
      "_________________________________________________________________\n",
      "Train on 2988 samples, validate on 333 samples\n",
      "Epoch 1/1\n",
      "2980/2988 [============================>.] - ETA: 0s - loss: 1.8324 - acc: 0.3023Epoch 00000: val_loss improved from inf to 1.91503, saving model to saved_models/weights.best.from_scratch.hdf5\n",
      "2988/2988 [==============================] - 8s - loss: 1.8342 - acc: 0.3029 - val_loss: 1.9150 - val_acc: 0.3483\n",
      "Train on 2989 samples, validate on 332 samples\n",
      "Epoch 1/1\n",
      "2980/2989 [============================>.] - ETA: 0s - loss: 1.4274 - acc: 0.5087Epoch 00000: val_loss improved from 1.91503 to 1.61043, saving model to saved_models/weights.best.from_scratch.hdf5\n",
      "2989/2989 [==============================] - 5s - loss: 1.4277 - acc: 0.5085 - val_loss: 1.6104 - val_acc: 0.3946\n",
      "Train on 2989 samples, validate on 332 samples\n",
      "Epoch 1/1\n",
      "2980/2989 [============================>.] - ETA: 0s - loss: 1.1797 - acc: 0.5755Epoch 00000: val_loss improved from 1.61043 to 1.08057, saving model to saved_models/weights.best.from_scratch.hdf5\n",
      "2989/2989 [==============================] - 4s - loss: 1.1798 - acc: 0.5758 - val_loss: 1.0806 - val_acc: 0.6807\n",
      "Train on 2989 samples, validate on 332 samples\n",
      "Epoch 1/1\n",
      "2980/2989 [============================>.] - ETA: 0s - loss: 1.0200 - acc: 0.6470Epoch 00000: val_loss improved from 1.08057 to 1.01719, saving model to saved_models/weights.best.from_scratch.hdf5\n",
      "2989/2989 [==============================] - 4s - loss: 1.0216 - acc: 0.6467 - val_loss: 1.0172 - val_acc: 0.6024\n",
      "Train on 2989 samples, validate on 332 samples\n",
      "Epoch 1/1\n",
      "2980/2989 [============================>.] - ETA: 0s - loss: 0.8764 - acc: 0.6940Epoch 00000: val_loss improved from 1.01719 to 0.97950, saving model to saved_models/weights.best.from_scratch.hdf5\n",
      "2989/2989 [==============================] - 4s - loss: 0.8776 - acc: 0.6939 - val_loss: 0.9795 - val_acc: 0.6446\n",
      "Train on 2989 samples, validate on 332 samples\n",
      "Epoch 1/1\n",
      "2980/2989 [============================>.] - ETA: 0s - loss: 0.7816 - acc: 0.7312Epoch 00000: val_loss improved from 0.97950 to 0.73578, saving model to saved_models/weights.best.from_scratch.hdf5\n",
      "2989/2989 [==============================] - 4s - loss: 0.7806 - acc: 0.7317 - val_loss: 0.7358 - val_acc: 0.7259\n",
      "Train on 2989 samples, validate on 332 samples\n",
      "Epoch 1/1\n",
      "2980/2989 [============================>.] - ETA: 0s - loss: 0.7079 - acc: 0.7483Epoch 00000: val_loss improved from 0.73578 to 0.50876, saving model to saved_models/weights.best.from_scratch.hdf5\n",
      "2989/2989 [==============================] - 4s - loss: 0.7068 - acc: 0.7487 - val_loss: 0.5088 - val_acc: 0.8223\n",
      "Train on 2989 samples, validate on 332 samples\n",
      "Epoch 1/1\n",
      "2980/2989 [============================>.] - ETA: 0s - loss: 0.6097 - acc: 0.7899Epoch 00000: val_loss did not improve\n",
      "2989/2989 [==============================] - 4s - loss: 0.6110 - acc: 0.7896 - val_loss: 0.6909 - val_acc: 0.7620\n",
      "Train on 2989 samples, validate on 332 samples\n",
      "Epoch 1/1\n",
      "2980/2989 [============================>.] - ETA: 0s - loss: 0.5552 - acc: 0.7973Epoch 00000: val_loss improved from 0.50876 to 0.34754, saving model to saved_models/weights.best.from_scratch.hdf5\n",
      "2989/2989 [==============================] - 4s - loss: 0.5546 - acc: 0.7976 - val_loss: 0.3475 - val_acc: 0.8855\n",
      "Train on 2989 samples, validate on 332 samples\n",
      "Epoch 1/1\n",
      "2980/2989 [============================>.] - ETA: 0s - loss: 0.4720 - acc: 0.8362Epoch 00000: val_loss did not improve\n",
      "2989/2989 [==============================] - 4s - loss: 0.4711 - acc: 0.8367 - val_loss: 0.4650 - val_acc: 0.8494\n"
     ]
    }
   ],
   "source": [
    "\"\"\"\n",
    "    Train the CNN model\n",
    "\"\"\"\n",
    "\n",
    "from keras.callbacks import ModelCheckpoint\n",
    "from sklearn.model_selection import KFold\n",
    "\n",
    "checkpointer = ModelCheckpoint(filepath='saved_models/weights.best.from_scratch.hdf5', \n",
    "                               verbose=1, save_best_only=True)\n",
    "cv_fold = KFold(n_splits=10)\n",
    "cnn_model = create_cnn_model2()\n",
    "\n",
    "for train_index, test_index in cv_fold.split(X_train_2d):\n",
    "    X_fold_train, X_fold_test = X_train_2d[train_index], X_train_2d[test_index]\n",
    "    y_fold_train, y_fold_test = y_train_2d[train_index], y_train_2d[test_index]\n",
    "    X_fold_train = np.expand_dims(X_fold_train, axis=2)\n",
    "    X_fold_test = np.expand_dims(X_fold_test, axis=2)    \n",
    "    cnn_model.fit(X_fold_train, y_fold_train, validation_data=(X_fold_test, y_fold_test), epochs=1, batch_size=20, \n",
    "              callbacks=[checkpointer], verbose=1)"
   ]
  },
  {
   "cell_type": "code",
   "execution_count": 21,
   "metadata": {},
   "outputs": [
    {
     "name": "stdout",
     "output_type": "stream",
     "text": [
      "_________________________________________________________________\n",
      "Layer (type)                 Output Shape              Param #   \n",
      "=================================================================\n",
      "conv1d_7 (Conv1D)            (None, 5600, 16)          96        \n",
      "_________________________________________________________________\n",
      "max_pooling1d_7 (MaxPooling1 (None, 2800, 16)          0         \n",
      "_________________________________________________________________\n",
      "dropout_7 (Dropout)          (None, 2800, 16)          0         \n",
      "_________________________________________________________________\n",
      "conv1d_8 (Conv1D)            (None, 2800, 32)          2592      \n",
      "_________________________________________________________________\n",
      "max_pooling1d_8 (MaxPooling1 (None, 1400, 32)          0         \n",
      "_________________________________________________________________\n",
      "dropout_8 (Dropout)          (None, 1400, 32)          0         \n",
      "_________________________________________________________________\n",
      "conv1d_9 (Conv1D)            (None, 1400, 64)          10304     \n",
      "_________________________________________________________________\n",
      "max_pooling1d_9 (MaxPooling1 (None, 700, 64)           0         \n",
      "_________________________________________________________________\n",
      "dropout_9 (Dropout)          (None, 700, 64)           0         \n",
      "_________________________________________________________________\n",
      "flatten_2 (Flatten)          (None, 44800)             0         \n",
      "_________________________________________________________________\n",
      "dense_4 (Dense)              (None, 128)               5734528   \n",
      "_________________________________________________________________\n",
      "dense_5 (Dense)              (None, 9)                 1161      \n",
      "=================================================================\n",
      "Total params: 5,748,681\n",
      "Trainable params: 5,748,681\n",
      "Non-trainable params: 0\n",
      "_________________________________________________________________\n",
      "(3321, 5600)\n",
      "(3021, 5600)\n",
      "Train on 3021 samples, validate on 300 samples\n",
      "Epoch 1/20\n",
      "3020/3021 [============================>.] - ETA: 0s - loss: 1.8040 - acc: 0.3172Epoch 00000: val_loss improved from inf to 1.87767, saving model to saved_models/weights.best.from_scratch.hdf5\n",
      "3021/3021 [==============================] - 5s - loss: 1.8041 - acc: 0.3171 - val_loss: 1.8777 - val_acc: 0.2100\n",
      "Epoch 2/20\n",
      "3020/3021 [============================>.] - ETA: 0s - loss: 1.3202 - acc: 0.5397Epoch 00001: val_loss did not improve\n",
      "3021/3021 [==============================] - 4s - loss: 1.3198 - acc: 0.5399 - val_loss: 1.9866 - val_acc: 0.3033\n",
      "Epoch 3/20\n",
      "3020/3021 [============================>.] - ETA: 0s - loss: 1.0895 - acc: 0.6093Epoch 00002: val_loss did not improve\n",
      "3021/3021 [==============================] - 4s - loss: 1.0900 - acc: 0.6091 - val_loss: 1.9476 - val_acc: 0.2567\n",
      "Epoch 4/20\n",
      "3020/3021 [============================>.] - ETA: 0s - loss: 0.9515 - acc: 0.6646Epoch 00003: val_loss did not improve\n",
      "3021/3021 [==============================] - 4s - loss: 0.9517 - acc: 0.6643 - val_loss: 2.0344 - val_acc: 0.3367\n",
      "Epoch 5/20\n",
      "3020/3021 [============================>.] - ETA: 0s - loss: 0.8326 - acc: 0.6987Epoch 00004: val_loss did not improve\n",
      "3021/3021 [==============================] - 4s - loss: 0.8324 - acc: 0.6988 - val_loss: 2.2448 - val_acc: 0.3667\n",
      "Epoch 6/20\n",
      "3020/3021 [============================>.] - ETA: 0s - loss: 0.7351 - acc: 0.7381Epoch 00005: val_loss did not improve\n",
      "3021/3021 [==============================] - 4s - loss: 0.7354 - acc: 0.7378 - val_loss: 2.2827 - val_acc: 0.3267\n",
      "Epoch 7/20\n",
      "3020/3021 [============================>.] - ETA: 0s - loss: 0.6405 - acc: 0.7695Epoch 00006: val_loss did not improve\n",
      "3021/3021 [==============================] - 4s - loss: 0.6403 - acc: 0.7696 - val_loss: 2.7405 - val_acc: 0.2933\n",
      "Epoch 8/20\n",
      "3020/3021 [============================>.] - ETA: 0s - loss: 0.5829 - acc: 0.7901Epoch 00007: val_loss did not improve\n",
      "3021/3021 [==============================] - 4s - loss: 0.5829 - acc: 0.7901 - val_loss: 3.0171 - val_acc: 0.2900\n",
      "Epoch 9/20\n",
      "3020/3021 [============================>.] - ETA: 0s - loss: 0.5094 - acc: 0.8205Epoch 00008: val_loss did not improve\n",
      "3021/3021 [==============================] - 4s - loss: 0.5095 - acc: 0.8206 - val_loss: 3.1951 - val_acc: 0.3000\n",
      "Epoch 10/20\n",
      "3020/3021 [============================>.] - ETA: 0s - loss: 0.4383 - acc: 0.8460- ETA: 1s - loss: 0.4Epoch 00009: val_loss did not improve\n",
      "3021/3021 [==============================] - 4s - loss: 0.4381 - acc: 0.8461 - val_loss: 3.2054 - val_acc: 0.3267\n",
      "Epoch 11/20\n",
      "3020/3021 [============================>.] - ETA: 0s - loss: 0.3794 - acc: 0.8649Epoch 00010: val_loss did not improve\n",
      "3021/3021 [==============================] - 4s - loss: 0.3794 - acc: 0.8649 - val_loss: 3.4942 - val_acc: 0.3433\n",
      "Epoch 12/20\n",
      "3020/3021 [============================>.] - ETA: 0s - loss: 0.3189 - acc: 0.8914Epoch 00011: val_loss did not improve\n",
      "3021/3021 [==============================] - 4s - loss: 0.3188 - acc: 0.8914 - val_loss: 3.6160 - val_acc: 0.3067\n",
      "Epoch 13/20\n",
      "3020/3021 [============================>.] - ETA: 0s - loss: 0.2880 - acc: 0.9043Epoch 00012: val_loss did not improve\n",
      "3021/3021 [==============================] - 4s - loss: 0.2879 - acc: 0.9043 - val_loss: 4.1506 - val_acc: 0.2800\n",
      "Epoch 14/20\n",
      "3020/3021 [============================>.] - ETA: 0s - loss: 0.2515 - acc: 0.9113Epoch 00013: val_loss did not improve\n",
      "3021/3021 [==============================] - 4s - loss: 0.2514 - acc: 0.9113 - val_loss: 4.1374 - val_acc: 0.2733\n",
      "Epoch 15/20\n",
      "3020/3021 [============================>.] - ETA: 0s - loss: 0.2007 - acc: 0.9305Epoch 00014: val_loss did not improve\n",
      "3021/3021 [==============================] - 4s - loss: 0.2006 - acc: 0.9305 - val_loss: 4.5496 - val_acc: 0.2767\n",
      "Epoch 16/20\n",
      "3020/3021 [============================>.] - ETA: 0s - loss: 0.1836 - acc: 0.9437Epoch 00015: val_loss did not improve\n",
      "3021/3021 [==============================] - 4s - loss: 0.1836 - acc: 0.9437 - val_loss: 4.9301 - val_acc: 0.2700\n",
      "Epoch 17/20\n",
      "3020/3021 [============================>.] - ETA: 0s - loss: 0.1584 - acc: 0.9483Epoch 00016: val_loss did not improve\n",
      "3021/3021 [==============================] - 4s - loss: 0.1585 - acc: 0.9484 - val_loss: 4.9021 - val_acc: 0.2800\n",
      "Epoch 18/20\n",
      "3020/3021 [============================>.] - ETA: 0s - loss: 0.1237 - acc: 0.9530Epoch 00017: val_loss did not improve\n",
      "3021/3021 [==============================] - 4s - loss: 0.1236 - acc: 0.9530 - val_loss: 5.0586 - val_acc: 0.2600\n",
      "Epoch 19/20\n",
      "3020/3021 [============================>.] - ETA: 0s - loss: 0.1136 - acc: 0.9632Epoch 00018: val_loss did not improve\n",
      "3021/3021 [==============================] - 4s - loss: 0.1135 - acc: 0.9633 - val_loss: 5.4983 - val_acc: 0.2733\n",
      "Epoch 20/20\n",
      "3020/3021 [============================>.] - ETA: 0s - loss: 0.0882 - acc: 0.9722Epoch 00019: val_loss did not improve\n",
      "3021/3021 [==============================] - 4s - loss: 0.0882 - acc: 0.9722 - val_loss: 5.5740 - val_acc: 0.2733\n"
     ]
    },
    {
     "data": {
      "text/plain": [
       "<keras.callbacks.History at 0x7f43dbd96950>"
      ]
     },
     "execution_count": 21,
     "metadata": {},
     "output_type": "execute_result"
    }
   ],
   "source": [
    "\"\"\"\n",
    "    Train the CNN model 2\n",
    "\"\"\"\n",
    "\n",
    "from keras.callbacks import ModelCheckpoint\n",
    "\n",
    "\n",
    "checkpointer = ModelCheckpoint(filepath='saved_models/weights.best.from_scratch.hdf5', \n",
    "                               verbose=1, save_best_only=True)\n",
    "\n",
    "cnn_model = create_cnn_model2()\n",
    "X_valid_test = X_train_2d[:300]\n",
    "y_valid_test = y_train_2d[:300]\n",
    "X_train = X_train_2d[300:]\n",
    "y_train = y_train_2d[300:]\n",
    "\n",
    "print X_train_2d.shape\n",
    "print X_train.shape\n",
    "X_train = np.expand_dims(X_train, axis=2)\n",
    "X_valid_test = np.expand_dims(X_valid_test, axis=2)\n",
    "cnn_model.fit(X_train, y_train, validation_data=(X_valid_test, y_valid_test), epochs=20, batch_size=20, \n",
    "        callbacks=[checkpointer], verbose=1)\n"
   ]
  },
  {
   "cell_type": "code",
   "execution_count": 22,
   "metadata": {
    "collapsed": true
   },
   "outputs": [],
   "source": [
    "\"\"\"\n",
    "    Load the best weights into the model\n",
    "\"\"\"\n",
    "cnn_model.load_weights('saved_models/weights.best.from_scratch.hdf5')"
   ]
  },
  {
   "cell_type": "code",
   "execution_count": 23,
   "metadata": {},
   "outputs": [
    {
     "name": "stdout",
     "output_type": "stream",
     "text": [
      "5668/5668 [==============================] - 1s     \n",
      "[ 0.08427842  0.23235247  0.04952785  0.16867645  0.08345897  0.08399524\n",
      "  0.26397043  0.01666131  0.01707882]\n"
     ]
    }
   ],
   "source": [
    "\"\"\"\n",
    "    Make predictions from test data\n",
    "\"\"\"\n",
    "\n",
    "model_predictions = cnn_model.predict_proba(X_test_dim_data)\n",
    "\n",
    "print model_predictions[0]\n"
   ]
  },
  {
   "cell_type": "code",
   "execution_count": 24,
   "metadata": {
    "collapsed": true
   },
   "outputs": [],
   "source": [
    "y_pred = []\n",
    "for i in range(len(model_predictions)):\n",
    "    max_value = model_predictions[i][np.argmax(model_predictions[i])]\n",
    "    y_pred.append(model_predictions[i] // max_value)\n",
    "\n"
   ]
  },
  {
   "cell_type": "code",
   "execution_count": 25,
   "metadata": {},
   "outputs": [
    {
     "name": "stdout",
     "output_type": "stream",
     "text": [
      "[ 0.  1.  0.  0.  0.  0.  0.  0.  0.]\n"
     ]
    }
   ],
   "source": [
    "print y_pred[2]"
   ]
  },
  {
   "cell_type": "code",
   "execution_count": 26,
   "metadata": {},
   "outputs": [
    {
     "name": "stdout",
     "output_type": "stream",
     "text": [
      "4\n",
      "[1, 2, 2, 4, 4, 4, 9, 7, 7, 7, 2, 1, 4, 1, 1, 1, 2, 3, 2, 7, 2, 1, 7, 7, 3, 7, 9, 7, 1, 4, 1, 6, 4, 9, 6, 4, 1, 5, 2, 1, 3, 2, 7, 7, 5, 7, 4, 6, 4, 1, 1, 4, 7, 1, 6, 7, 1, 1, 7, 2, 7, 2, 1, 7, 4, 9, 7, 4, 4, 1, 4, 5, 1, 1, 1, 4, 2, 2, 1, 7, 1, 5, 6, 7, 6, 6, 1, 7, 5, 2, 1, 4, 7, 7, 4, 1, 1, 4, 7, 1, 1, 2, 3, 7, 2, 2, 7, 4, 1, 4, 4, 7, 4, 7, 7, 7, 6, 3, 7, 7, 4, 4, 4, 2, 4, 1, 4, 1, 4, 1, 2, 4, 7, 7, 4, 7, 7, 7, 4, 1, 2, 7, 4, 1, 1, 7, 2, 7, 7, 7, 2, 2, 1, 4, 1, 1, 7, 7, 1, 5, 4, 4, 7, 2, 1, 2, 4, 6, 4, 7, 1, 1, 1, 1, 7, 7, 4, 5, 4, 1, 4, 2, 6, 7, 4, 5, 7, 3, 1, 7, 6, 2, 1, 8, 7, 7, 5, 7, 5, 5, 1, 1, 1, 7, 7, 2, 1, 1, 7, 1, 2, 1, 4, 9, 1, 2, 7, 7, 1, 2, 4, 1, 4, 7, 7, 1, 4, 8, 4, 5, 4, 4, 5, 1, 4, 1, 2, 7, 2, 4, 1, 6, 6, 5, 7, 7, 6, 2, 7, 9, 1, 1, 2, 6, 7, 7, 7, 1, 1, 1, 4, 5, 7, 7, 7, 2, 5, 7, 1, 6, 7, 1, 5, 5, 6, 7, 2, 1, 2, 4, 2, 7, 7, 4, 1, 5, 7, 2, 5, 6, 4, 5, 7, 5, 7, 7, 1, 7, 7, 5, 7, 3, 2, 1, 7, 6, 7, 7, 4, 1, 1, 1, 1, 1, 5, 1, 7, 1, 1, 1, 1, 2, 4, 1, 4, 4, 7, 2, 1, 1, 7, 2, 1, 1, 6, 7, 1, 6, 7, 4, 7, 7, 7, 4, 1, 7, 1, 1, 7, 1, 4, 7, 5, 2, 7, 7, 2, 7, 7, 1, 7, 4, 2, 4, 4, 6, 4, 1]\n",
      "368\n",
      "368\n"
     ]
    }
   ],
   "source": [
    "\"\"\"\n",
    "    Kaggle competition test data set for target class labels are incomplete and as such our test prediction \n",
    "    and true values need to be reconciled appropriately\n",
    "\"\"\"\n",
    "y_true_data = pd.read_csv('stage1_solution_filtered.csv')\n",
    "\n",
    "y_final_pred = [y_pred[d] for d in y_true_data['ID']]\n",
    "model_predictions_final = [model_predictions[d] for d in y_true_data['ID']]\n",
    "\n",
    "y_final_pred_labels = [ np.argmax(pred) + 1 for pred in y_final_pred]\n",
    "print y_final_pred_labels[0]\n",
    "\n",
    "y_true_data.drop('ID', axis=1, inplace=True)\n",
    "\n",
    "y_true_data_labels = [np.argmax(data) + 1 for data in np.array(y_true_data)]\n",
    "print y_true_data_labels\n",
    "\n",
    "print len(y_final_pred_labels)\n",
    "print len(y_true_data_labels)"
   ]
  },
  {
   "cell_type": "code",
   "execution_count": 27,
   "metadata": {},
   "outputs": [
    {
     "name": "stdout",
     "output_type": "stream",
     "text": [
      "1.66870468563\n"
     ]
    }
   ],
   "source": [
    "from sklearn.metrics import log_loss\n",
    "#print model_predictions_final\n",
    "\n",
    "#print log_loss(y_true_data_labels, model_predictions_final)\n",
    "print log_loss(np.array(y_true_data), model_predictions_final)"
   ]
  },
  {
   "cell_type": "code",
   "execution_count": 31,
   "metadata": {},
   "outputs": [
    {
     "data": {
      "image/png": "[encoded data removed]",
      "text/plain": [
       "<matplotlib.figure.Figure at 0x7f43dbbee6d0>"
      ]
     },
     "metadata": {},
     "output_type": "display_data"
    },
    {
     "data": {
      "image/png": "[encoded data removed]",
      "text/plain": [
       "<matplotlib.figure.Figure at 0x7f43d5e671d0>"
      ]
     },
     "metadata": {},
     "output_type": "display_data"
    }
   ],
   "source": [
    "import matplotlib.pyplot as plt\n",
    "import scikitplot as skplt\n",
    "skplt.metrics.plot_confusion_matrix(y_true_data_labels, y_final_pred_labels)\n",
    "plt.show()"
   ]
  },
  {
   "cell_type": "code",
   "execution_count": null,
   "metadata": {
    "collapsed": true
   },
   "outputs": [],
   "source": []
  },
  {
   "cell_type": "code",
   "execution_count": null,
   "metadata": {
    "collapsed": true
   },
   "outputs": [],
   "source": []
  }
 ],
 "metadata": {
  "kernelspec": {
   "display_name": "Python 2",
   "language": "python",
   "name": "python2"
  },
  "language_info": {
   "codemirror_mode": {
    "name": "ipython",
    "version": 2
   },
   "file_extension": ".py",
   "mimetype": "text/x-python",
   "name": "python",
   "nbconvert_exporter": "python",
   "pygments_lexer": "ipython2",
   "version": "2.7.6"
  }
 },
 "nbformat": 4,
 "nbformat_minor": 2
}
